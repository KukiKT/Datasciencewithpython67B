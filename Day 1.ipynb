{
 "cells": [
  {
   "cell_type": "code",
   "execution_count": 1,
   "id": "e562f544",
   "metadata": {},
   "outputs": [],
   "source": [
    "a=20 \n",
    "# a=variable\n",
    "# = assiment oprater\n",
    "# 20 = data\n"
   ]
  },
  {
   "cell_type": "code",
   "execution_count": 2,
   "id": "ce9775cc",
   "metadata": {},
   "outputs": [
    {
     "data": {
      "text/plain": [
       "20"
      ]
     },
     "execution_count": 2,
     "metadata": {},
     "output_type": "execute_result"
    }
   ],
   "source": [
    "a"
   ]
  },
  {
   "cell_type": "code",
   "execution_count": 3,
   "id": "27bfe96d",
   "metadata": {},
   "outputs": [
    {
     "name": "stdout",
     "output_type": "stream",
     "text": [
      "20\n"
     ]
    }
   ],
   "source": [
    "print(a) # a as a parameter"
   ]
  },
  {
   "cell_type": "code",
   "execution_count": 4,
   "id": "4efea79a",
   "metadata": {},
   "outputs": [],
   "source": [
    "a=\"srushti\""
   ]
  },
  {
   "cell_type": "code",
   "execution_count": null,
   "id": "f6bf7e1b",
   "metadata": {},
   "outputs": [],
   "source": [
    "a='srushti'"
   ]
  },
  {
   "cell_type": "code",
   "execution_count": 5,
   "id": "ac4e2b41",
   "metadata": {},
   "outputs": [],
   "source": [
    "a='''srushti'''"
   ]
  },
  {
   "cell_type": "code",
   "execution_count": 6,
   "id": "bf4ae2d6",
   "metadata": {},
   "outputs": [
    {
     "name": "stdout",
     "output_type": "stream",
     "text": [
      "srushti\n"
     ]
    }
   ],
   "source": [
    "print(a)\n"
   ]
  },
  {
   "cell_type": "code",
   "execution_count": 7,
   "id": "9a6c974e",
   "metadata": {},
   "outputs": [],
   "source": [
    "a='srushti'\n",
    "b='Tembhare'\n",
    "c=a+b"
   ]
  },
  {
   "cell_type": "code",
   "execution_count": 8,
   "id": "6b884c1c",
   "metadata": {},
   "outputs": [
    {
     "name": "stdout",
     "output_type": "stream",
     "text": [
      "srushtiTembhare\n"
     ]
    }
   ],
   "source": [
    "print(c)"
   ]
  },
  {
   "cell_type": "code",
   "execution_count": 9,
   "id": "10af3dad",
   "metadata": {},
   "outputs": [
    {
     "name": "stdout",
     "output_type": "stream",
     "text": [
      "srushti\n",
      " Tembhare\n"
     ]
    }
   ],
   "source": [
    "print(\"srushti\\n Tembhare\") # \\n=newline\n"
   ]
  },
  {
   "cell_type": "code",
   "execution_count": 10,
   "id": "e5f63391",
   "metadata": {},
   "outputs": [
    {
     "name": "stdout",
     "output_type": "stream",
     "text": [
      "srushti\tTembhare\n"
     ]
    }
   ],
   "source": [
    "print(\"srushti\\tTembhare\") # \\t= 4 white space"
   ]
  },
  {
   "cell_type": "code",
   "execution_count": 11,
   "id": "b47cfd2d",
   "metadata": {},
   "outputs": [],
   "source": [
    "a=20"
   ]
  },
  {
   "cell_type": "code",
   "execution_count": 12,
   "id": "2cb0c175",
   "metadata": {},
   "outputs": [
    {
     "data": {
      "text/plain": [
       "int"
      ]
     },
     "execution_count": 12,
     "metadata": {},
     "output_type": "execute_result"
    }
   ],
   "source": [
    "type(a)"
   ]
  },
  {
   "cell_type": "code",
   "execution_count": null,
   "id": "511b215d",
   "metadata": {},
   "outputs": [],
   "source": []
  }
 ],
 "metadata": {
  "kernelspec": {
   "display_name": "Python 3 (ipykernel)",
   "language": "python",
   "name": "python3"
  },
  "language_info": {
   "codemirror_mode": {
    "name": "ipython",
    "version": 3
   },
   "file_extension": ".py",
   "mimetype": "text/x-python",
   "name": "python",
   "nbconvert_exporter": "python",
   "pygments_lexer": "ipython3",
   "version": "3.9.7"
  }
 },
 "nbformat": 4,
 "nbformat_minor": 5
}
